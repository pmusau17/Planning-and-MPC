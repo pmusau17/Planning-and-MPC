{
 "cells": [
  {
   "cell_type": "code",
   "execution_count": 2,
   "metadata": {},
   "outputs": [],
   "source": [
    "import pandas as pd\n",
    "import numpy as np \n",
    "import seaborn as sns\n",
    "import matplotlib.pyplot as plt\n",
    "sns.set_theme(style=\"white\")\n",
    "import os"
   ]
  },
  {
   "cell_type": "code",
   "execution_count": 12,
   "metadata": {},
   "outputs": [],
   "source": [
    "df = pd.read_csv('track_porto.csv',header=None)\n",
    "xy_file = df[df.columns[:2]]\n",
    "xyyaw_file = df[df.columns[:3]]\n",
    "xy_file.to_csv('track_porto_xy.csv',index=False,header=False)\n",
    "xyyaw_file.to_csv('track_porto_xyyaw.csv',index=False,header=False)"
   ]
  },
  {
   "cell_type": "code",
   "execution_count": 15,
   "metadata": {},
   "outputs": [
    {
     "data": {
      "text/html": [
       "<div>\n",
       "<style scoped>\n",
       "    .dataframe tbody tr th:only-of-type {\n",
       "        vertical-align: middle;\n",
       "    }\n",
       "\n",
       "    .dataframe tbody tr th {\n",
       "        vertical-align: top;\n",
       "    }\n",
       "\n",
       "    .dataframe thead th {\n",
       "        text-align: right;\n",
       "    }\n",
       "</style>\n",
       "<table border=\"1\" class=\"dataframe\">\n",
       "  <thead>\n",
       "    <tr style=\"text-align: right;\">\n",
       "      <th></th>\n",
       "      <th>0</th>\n",
       "      <th>1</th>\n",
       "      <th>2</th>\n",
       "    </tr>\n",
       "  </thead>\n",
       "  <tbody>\n",
       "    <tr>\n",
       "      <th>0</th>\n",
       "      <td>-0.006356</td>\n",
       "      <td>0.030406</td>\n",
       "      <td>0.322701</td>\n",
       "    </tr>\n",
       "    <tr>\n",
       "      <th>1</th>\n",
       "      <td>0.046873</td>\n",
       "      <td>0.048074</td>\n",
       "      <td>0.323694</td>\n",
       "    </tr>\n",
       "    <tr>\n",
       "      <th>2</th>\n",
       "      <td>0.061574</td>\n",
       "      <td>0.052974</td>\n",
       "      <td>0.321511</td>\n",
       "    </tr>\n",
       "    <tr>\n",
       "      <th>3</th>\n",
       "      <td>0.070035</td>\n",
       "      <td>0.055794</td>\n",
       "      <td>0.322121</td>\n",
       "    </tr>\n",
       "    <tr>\n",
       "      <th>4</th>\n",
       "      <td>0.073681</td>\n",
       "      <td>0.057003</td>\n",
       "      <td>0.321677</td>\n",
       "    </tr>\n",
       "    <tr>\n",
       "      <th>...</th>\n",
       "      <td>...</td>\n",
       "      <td>...</td>\n",
       "      <td>...</td>\n",
       "    </tr>\n",
       "    <tr>\n",
       "      <th>1312</th>\n",
       "      <td>-0.219067</td>\n",
       "      <td>-0.040712</td>\n",
       "      <td>0.322037</td>\n",
       "    </tr>\n",
       "    <tr>\n",
       "      <th>1313</th>\n",
       "      <td>-0.185256</td>\n",
       "      <td>-0.029433</td>\n",
       "      <td>0.322367</td>\n",
       "    </tr>\n",
       "    <tr>\n",
       "      <th>1314</th>\n",
       "      <td>-0.150238</td>\n",
       "      <td>-0.017725</td>\n",
       "      <td>0.322637</td>\n",
       "    </tr>\n",
       "    <tr>\n",
       "      <th>1315</th>\n",
       "      <td>-0.078246</td>\n",
       "      <td>0.006337</td>\n",
       "      <td>0.322535</td>\n",
       "    </tr>\n",
       "    <tr>\n",
       "      <th>1316</th>\n",
       "      <td>-0.042291</td>\n",
       "      <td>0.018390</td>\n",
       "      <td>0.322787</td>\n",
       "    </tr>\n",
       "  </tbody>\n",
       "</table>\n",
       "<p>1317 rows × 3 columns</p>\n",
       "</div>"
      ],
      "text/plain": [
       "             0         1         2\n",
       "0    -0.006356  0.030406  0.322701\n",
       "1     0.046873  0.048074  0.323694\n",
       "2     0.061574  0.052974  0.321511\n",
       "3     0.070035  0.055794  0.322121\n",
       "4     0.073681  0.057003  0.321677\n",
       "...        ...       ...       ...\n",
       "1312 -0.219067 -0.040712  0.322037\n",
       "1313 -0.185256 -0.029433  0.322367\n",
       "1314 -0.150238 -0.017725  0.322637\n",
       "1315 -0.078246  0.006337  0.322535\n",
       "1316 -0.042291  0.018390  0.322787\n",
       "\n",
       "[1317 rows x 3 columns]"
      ]
     },
     "execution_count": 15,
     "metadata": {},
     "output_type": "execute_result"
    }
   ],
   "source": [
    "xyyaw_file"
   ]
  },
  {
   "cell_type": "code",
   "execution_count": 18,
   "metadata": {},
   "outputs": [
    {
     "data": {
      "text/html": [
       "<div>\n",
       "<style scoped>\n",
       "    .dataframe tbody tr th:only-of-type {\n",
       "        vertical-align: middle;\n",
       "    }\n",
       "\n",
       "    .dataframe tbody tr th {\n",
       "        vertical-align: top;\n",
       "    }\n",
       "\n",
       "    .dataframe thead th {\n",
       "        text-align: right;\n",
       "    }\n",
       "</style>\n",
       "<table border=\"1\" class=\"dataframe\">\n",
       "  <thead>\n",
       "    <tr style=\"text-align: right;\">\n",
       "      <th></th>\n",
       "      <th>x</th>\n",
       "      <th>y</th>\n",
       "      <th>2</th>\n",
       "    </tr>\n",
       "  </thead>\n",
       "  <tbody>\n",
       "    <tr>\n",
       "      <th>0</th>\n",
       "      <td>-0.006356</td>\n",
       "      <td>0.030406</td>\n",
       "      <td>0.322701</td>\n",
       "    </tr>\n",
       "    <tr>\n",
       "      <th>1</th>\n",
       "      <td>0.046873</td>\n",
       "      <td>0.048074</td>\n",
       "      <td>0.323694</td>\n",
       "    </tr>\n",
       "    <tr>\n",
       "      <th>2</th>\n",
       "      <td>0.061574</td>\n",
       "      <td>0.052974</td>\n",
       "      <td>0.321511</td>\n",
       "    </tr>\n",
       "    <tr>\n",
       "      <th>3</th>\n",
       "      <td>0.070035</td>\n",
       "      <td>0.055794</td>\n",
       "      <td>0.322121</td>\n",
       "    </tr>\n",
       "    <tr>\n",
       "      <th>4</th>\n",
       "      <td>0.073681</td>\n",
       "      <td>0.057003</td>\n",
       "      <td>0.321677</td>\n",
       "    </tr>\n",
       "    <tr>\n",
       "      <th>...</th>\n",
       "      <td>...</td>\n",
       "      <td>...</td>\n",
       "      <td>...</td>\n",
       "    </tr>\n",
       "    <tr>\n",
       "      <th>1312</th>\n",
       "      <td>-0.219067</td>\n",
       "      <td>-0.040712</td>\n",
       "      <td>0.322037</td>\n",
       "    </tr>\n",
       "    <tr>\n",
       "      <th>1313</th>\n",
       "      <td>-0.185256</td>\n",
       "      <td>-0.029433</td>\n",
       "      <td>0.322367</td>\n",
       "    </tr>\n",
       "    <tr>\n",
       "      <th>1314</th>\n",
       "      <td>-0.150238</td>\n",
       "      <td>-0.017725</td>\n",
       "      <td>0.322637</td>\n",
       "    </tr>\n",
       "    <tr>\n",
       "      <th>1315</th>\n",
       "      <td>-0.078246</td>\n",
       "      <td>0.006337</td>\n",
       "      <td>0.322535</td>\n",
       "    </tr>\n",
       "    <tr>\n",
       "      <th>1316</th>\n",
       "      <td>-0.042291</td>\n",
       "      <td>0.018390</td>\n",
       "      <td>0.322787</td>\n",
       "    </tr>\n",
       "  </tbody>\n",
       "</table>\n",
       "<p>1317 rows × 3 columns</p>\n",
       "</div>"
      ],
      "text/plain": [
       "             x         y         2\n",
       "0    -0.006356  0.030406  0.322701\n",
       "1     0.046873  0.048074  0.323694\n",
       "2     0.061574  0.052974  0.321511\n",
       "3     0.070035  0.055794  0.322121\n",
       "4     0.073681  0.057003  0.321677\n",
       "...        ...       ...       ...\n",
       "1312 -0.219067 -0.040712  0.322037\n",
       "1313 -0.185256 -0.029433  0.322367\n",
       "1314 -0.150238 -0.017725  0.322637\n",
       "1315 -0.078246  0.006337  0.322535\n",
       "1316 -0.042291  0.018390  0.322787\n",
       "\n",
       "[1317 rows x 3 columns]"
      ]
     },
     "execution_count": 18,
     "metadata": {},
     "output_type": "execute_result"
    }
   ],
   "source": [
    "xyyaw_file.rename(columns={0:\"x\",1:\"y\"})"
   ]
  },
  {
   "cell_type": "code",
   "execution_count": 21,
   "metadata": {},
   "outputs": [
    {
     "data": {
      "image/png": "[encoded data removed]",
      "text/plain": [
       "<Figure size 720x360 with 1 Axes>"
      ]
     },
     "metadata": {},
     "output_type": "display_data"
    }
   ],
   "source": [
    "fig, ax = plt.subplots(figsize=(10,5))\n",
    "sns.scatterplot(data=xyyaw_file.rename(columns={0:\"x\",1:\"y\"}),x='x',y='y')\n",
    "_= ax.set_xlabel(\"x (m)\")\n",
    "_= ax.set_ylabel(\"y (m)\") \n",
    "_= plt.title(\"Track Center Line\")"
   ]
  },
  {
   "cell_type": "code",
   "execution_count": 23,
   "metadata": {},
   "outputs": [
    {
     "data": {
      "image/png": "[encoded data removed]",
      "text/plain": [
       "<Figure size 720x360 with 1 Axes>"
      ]
     },
     "metadata": {},
     "output_type": "display_data"
    }
   ],
   "source": [
    "fig, ax = plt.subplots(figsize=(10,5))\n",
    "sns.scatterplot(data=xy_file.rename(columns={0:\"x\",1:\"y\"}),x='x',y='y')\n",
    "_= ax.set_xlabel(\"x (m)\")\n",
    "_= ax.set_ylabel(\"y (m)\") \n",
    "_= plt.title(\"Track Center Line\")"
   ]
  },
  {
   "cell_type": "markdown",
   "metadata": {},
   "source": [
    "### Sample the waypoints in a more discrete fashion"
   ]
  },
  {
   "cell_type": "code",
   "execution_count": 25,
   "metadata": {},
   "outputs": [],
   "source": [
    "xy_file = df[df.columns[:2]]"
   ]
  },
  {
   "cell_type": "code",
   "execution_count": 45,
   "metadata": {},
   "outputs": [
    {
     "data": {
      "image/png": "[encoded data removed]",
      "text/plain": [
       "<Figure size 720x360 with 1 Axes>"
      ]
     },
     "metadata": {},
     "output_type": "display_data"
    }
   ],
   "source": [
    "indices = range(0,xy_file.shape[0],30)\n",
    "sampled_xy = xy_file.iloc[list(indices)]\n",
    "sampled_xyyaw = xyyaw_file.iloc[list(indices)]\n",
    "\n",
    "fig, ax = plt.subplots(figsize=(10,5))\n",
    "sns.scatterplot(data=sampled_xy.rename(columns={0:\"x\",1:\"y\"}),x='x',y='y')\n",
    "_= ax.set_xlabel(\"x (m)\")\n",
    "_= ax.set_ylabel(\"y (m)\") \n",
    "_= plt.title(\"Track Center Line\")"
   ]
  },
  {
   "cell_type": "code",
   "execution_count": 50,
   "metadata": {},
   "outputs": [
    {
     "data": {
      "text/html": [
       "<div>\n",
       "<style scoped>\n",
       "    .dataframe tbody tr th:only-of-type {\n",
       "        vertical-align: middle;\n",
       "    }\n",
       "\n",
       "    .dataframe tbody tr th {\n",
       "        vertical-align: top;\n",
       "    }\n",
       "\n",
       "    .dataframe thead th {\n",
       "        text-align: right;\n",
       "    }\n",
       "</style>\n",
       "<table border=\"1\" class=\"dataframe\">\n",
       "  <thead>\n",
       "    <tr style=\"text-align: right;\">\n",
       "      <th></th>\n",
       "      <th>0</th>\n",
       "      <th>1</th>\n",
       "    </tr>\n",
       "  </thead>\n",
       "  <tbody>\n",
       "    <tr>\n",
       "      <th>0</th>\n",
       "      <td>-0.006356</td>\n",
       "      <td>0.030406</td>\n",
       "    </tr>\n",
       "    <tr>\n",
       "      <th>30</th>\n",
       "      <td>0.074062</td>\n",
       "      <td>0.057086</td>\n",
       "    </tr>\n",
       "    <tr>\n",
       "      <th>60</th>\n",
       "      <td>0.120067</td>\n",
       "      <td>0.035029</td>\n",
       "    </tr>\n",
       "    <tr>\n",
       "      <th>90</th>\n",
       "      <td>0.120104</td>\n",
       "      <td>0.034938</td>\n",
       "    </tr>\n",
       "    <tr>\n",
       "      <th>120</th>\n",
       "      <td>1.077466</td>\n",
       "      <td>0.921832</td>\n",
       "    </tr>\n",
       "  </tbody>\n",
       "</table>\n",
       "</div>"
      ],
      "text/plain": [
       "            0         1\n",
       "0   -0.006356  0.030406\n",
       "30   0.074062  0.057086\n",
       "60   0.120067  0.035029\n",
       "90   0.120104  0.034938\n",
       "120  1.077466  0.921832"
      ]
     },
     "execution_count": 50,
     "metadata": {},
     "output_type": "execute_result"
    }
   ],
   "source": [
    "sampled_xy.head()"
   ]
  },
  {
   "cell_type": "code",
   "execution_count": 46,
   "metadata": {},
   "outputs": [
    {
     "data": {
      "image/png": "[encoded data removed]",
      "text/plain": [
       "<Figure size 720x360 with 1 Axes>"
      ]
     },
     "metadata": {},
     "output_type": "display_data"
    }
   ],
   "source": [
    "fig, ax = plt.subplots(figsize=(10,5))\n",
    "sns.scatterplot(data=sampled_xyyaw.rename(columns={0:\"x\",1:\"y\"}),x='x',y='y')\n",
    "_= ax.set_xlabel(\"x (m)\")\n",
    "_= ax.set_ylabel(\"y (m)\") \n",
    "_= plt.title(\"Track Center Line\")"
   ]
  },
  {
   "cell_type": "code",
   "execution_count": 49,
   "metadata": {},
   "outputs": [
    {
     "data": {
      "text/html": [
       "<div>\n",
       "<style scoped>\n",
       "    .dataframe tbody tr th:only-of-type {\n",
       "        vertical-align: middle;\n",
       "    }\n",
       "\n",
       "    .dataframe tbody tr th {\n",
       "        vertical-align: top;\n",
       "    }\n",
       "\n",
       "    .dataframe thead th {\n",
       "        text-align: right;\n",
       "    }\n",
       "</style>\n",
       "<table border=\"1\" class=\"dataframe\">\n",
       "  <thead>\n",
       "    <tr style=\"text-align: right;\">\n",
       "      <th></th>\n",
       "      <th>0</th>\n",
       "      <th>1</th>\n",
       "      <th>2</th>\n",
       "    </tr>\n",
       "  </thead>\n",
       "  <tbody>\n",
       "    <tr>\n",
       "      <th>0</th>\n",
       "      <td>-0.006356</td>\n",
       "      <td>0.030406</td>\n",
       "      <td>0.322701</td>\n",
       "    </tr>\n",
       "    <tr>\n",
       "      <th>30</th>\n",
       "      <td>0.074062</td>\n",
       "      <td>0.057086</td>\n",
       "      <td>0.321494</td>\n",
       "    </tr>\n",
       "    <tr>\n",
       "      <th>60</th>\n",
       "      <td>0.120067</td>\n",
       "      <td>0.035029</td>\n",
       "      <td>0.746264</td>\n",
       "    </tr>\n",
       "    <tr>\n",
       "      <th>90</th>\n",
       "      <td>0.120104</td>\n",
       "      <td>0.034938</td>\n",
       "      <td>0.746721</td>\n",
       "    </tr>\n",
       "    <tr>\n",
       "      <th>120</th>\n",
       "      <td>1.077466</td>\n",
       "      <td>0.921832</td>\n",
       "      <td>0.750663</td>\n",
       "    </tr>\n",
       "  </tbody>\n",
       "</table>\n",
       "</div>"
      ],
      "text/plain": [
       "            0         1         2\n",
       "0   -0.006356  0.030406  0.322701\n",
       "30   0.074062  0.057086  0.321494\n",
       "60   0.120067  0.035029  0.746264\n",
       "90   0.120104  0.034938  0.746721\n",
       "120  1.077466  0.921832  0.750663"
      ]
     },
     "execution_count": 49,
     "metadata": {},
     "output_type": "execute_result"
    }
   ],
   "source": [
    "sampled_xyyaw.head()"
   ]
  },
  {
   "cell_type": "code",
   "execution_count": 51,
   "metadata": {},
   "outputs": [],
   "source": [
    "sampled_xy.to_csv('track_porto_xy_sampled.csv',index=False,header=False)\n",
    "sampled_xyyaw.to_csv('track_porto_xyyaw_sampled.csv',index=False,header=False)"
   ]
  }
 ],
 "metadata": {
  "kernelspec": {
   "display_name": "Python 3",
   "language": "python",
   "name": "python3"
  },
  "language_info": {
   "codemirror_mode": {
    "name": "ipython",
    "version": 3
   },
   "file_extension": ".py",
   "mimetype": "text/x-python",
   "name": "python",
   "nbconvert_exporter": "python",
   "pygments_lexer": "ipython3",
   "version": "3.7.3"
  }
 },
 "nbformat": 4,
 "nbformat_minor": 2
}
